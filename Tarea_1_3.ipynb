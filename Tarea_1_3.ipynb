{
  "nbformat": 4,
  "nbformat_minor": 0,
  "metadata": {
    "colab": {
      "provenance": [],
      "collapsed_sections": [],
      "toc_visible": true
    },
    "kernelspec": {
      "name": "python3",
      "display_name": "Python 3"
    },
    "language_info": {
      "name": "python"
    }
  },
  "cells": [
    {
      "cell_type": "code",
      "execution_count": null,
      "metadata": {
        "colab": {
          "base_uri": "https://localhost:8080/"
        },
        "id": "sW2KfFIqH9Gn",
        "outputId": "3cbcf902-ed25-42a3-bdb6-63b529f01590"
      },
      "outputs": [
        {
          "output_type": "stream",
          "name": "stdout",
          "text": [
            "Hola\n"
          ]
        }
      ],
      "source": [
        "print ('Hola')"
      ]
    },
    {
      "cell_type": "code",
      "source": [],
      "metadata": {
        "id": "NcLlX7OqPVH4"
      },
      "execution_count": null,
      "outputs": []
    },
    {
      "cell_type": "code",
      "source": [
        "x = 'Hola'\n",
        "print (x)"
      ],
      "metadata": {
        "colab": {
          "base_uri": "https://localhost:8080/"
        },
        "id": "G_cXGAy2IFW9",
        "outputId": "e828e804-57ed-4cc7-fa96-c921305c4abf"
      },
      "execution_count": null,
      "outputs": [
        {
          "output_type": "stream",
          "name": "stdout",
          "text": [
            "Hola\n"
          ]
        }
      ]
    },
    {
      "cell_type": "markdown",
      "source": [],
      "metadata": {
        "id": "9Wj-kktYPhys"
      }
    },
    {
      "cell_type": "code",
      "source": [
        "suma = (1+2)**2\n",
        "print (suma)"
      ],
      "metadata": {
        "colab": {
          "base_uri": "https://localhost:8080/"
        },
        "id": "thh85GjCJKqB",
        "outputId": "7639de88-49ef-4637-f611-d607a8d43ee2"
      },
      "execution_count": null,
      "outputs": [
        {
          "output_type": "stream",
          "name": "stdout",
          "text": [
            "9\n"
          ]
        }
      ]
    },
    {
      "cell_type": "code",
      "source": [
        "print ('Primer número:')\n",
        "first_number = input ()\n",
        "print ('Segundo número:')\n",
        "second_number = input ()\n",
        "sum = int (first_number) + int (second_number)\n",
        "print ('El resultado es',sum**3)"
      ],
      "metadata": {
        "colab": {
          "base_uri": "https://localhost:8080/"
        },
        "id": "xtOZ01kOJ9bU",
        "outputId": "dee586ae-ab36-42bc-d4cb-24aa3439f8d7"
      },
      "execution_count": null,
      "outputs": [
        {
          "output_type": "stream",
          "name": "stdout",
          "text": [
            "Primer número:\n",
            "2\n",
            "Segundo número:\n",
            "3\n",
            "El resultado es 125\n"
          ]
        }
      ]
    },
    {
      "cell_type": "code",
      "source": [
        "print ('Escribe una frase:')\n",
        "frase = input ()\n",
        "print ('Escribe un número:')\n",
        "numero = input ()\n",
        "suma = frase + ' ' + numero\n",
        "print ('El resultado de todo es:',suma)"
      ],
      "metadata": {
        "colab": {
          "base_uri": "https://localhost:8080/"
        },
        "id": "BsYIZLyfLq4V",
        "outputId": "f30d1b4c-288e-4460-e9cf-4b4fed3a3d36"
      },
      "execution_count": null,
      "outputs": [
        {
          "output_type": "stream",
          "name": "stdout",
          "text": [
            "Escribe una frase:\n",
            "Stranger Things\n",
            "Escribe un número:\n",
            "3\n",
            "El resultado de todo es: Stranger Things 3\n"
          ]
        }
      ]
    }
  ]
}